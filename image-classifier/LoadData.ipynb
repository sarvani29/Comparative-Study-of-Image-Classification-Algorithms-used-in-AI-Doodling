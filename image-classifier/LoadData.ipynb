{
 "cells": [
  {
   "cell_type": "code",
   "execution_count": 31,
   "metadata": {
    "colab": {
     "base_uri": "https://localhost:8080/",
     "height": 55
    },
    "colab_type": "code",
    "id": "xwauKsSF6Cxa",
    "outputId": "2a56cf53-78b0-43f0-ff62-057064600fd2"
   },
   "outputs": [
    {
     "name": "stdout",
     "output_type": "stream",
     "text": [
      "Drive already mounted at /content/drive; to attempt to forcibly remount, call drive.mount(\"/content/drive\", force_remount=True).\n"
     ]
    }
   ],
   "source": [
    "# from google.colab import drive\n",
    "# drive.mount('/content/drive')"
   ]
  },
  {
   "cell_type": "code",
   "execution_count": 47,
   "metadata": {
    "colab": {},
    "colab_type": "code",
    "id": "UhnhBhSH6jYj"
   },
   "outputs": [],
   "source": [
    "import numpy as np\n",
    "import os\n",
    "import pickle"
   ]
  },
  {
   "cell_type": "code",
   "execution_count": 48,
   "metadata": {},
   "outputs": [],
   "source": [
    "from PIL import Image"
   ]
  },
  {
   "cell_type": "code",
   "execution_count": 49,
   "metadata": {
    "colab": {
     "base_uri": "https://localhost:8080/",
     "height": 35
    },
    "colab_type": "code",
    "id": "1OH-BtGv7Pfy",
    "outputId": "1d0d2fe9-3f3a-4104-8e53-8bb07ca87006"
   },
   "outputs": [
    {
     "data": {
      "text/plain": [
       "'nt'"
      ]
     },
     "execution_count": 49,
     "metadata": {},
     "output_type": "execute_result"
    }
   ],
   "source": [
    "os.name"
   ]
  },
  {
   "cell_type": "code",
   "execution_count": 50,
   "metadata": {
    "colab": {},
    "colab_type": "code",
    "id": "o61H8xEg9tni"
   },
   "outputs": [],
   "source": [
    "data_directory_path = \".//data\" #\"/content/drive/My Drive/Colab Notebooks/CS7IS2 - Artificial Intelligence/Data\"\n",
    "features_path = \"/content/drive/My Drive/Colab Notebooks/CS7IS2 - Artificial Intelligence/features\"\n",
    "labels_path = \"/content/drive/My Drive/Colab Notebooks/CS7IS2 - Artificial Intelligence/labels\""
   ]
  },
  {
   "cell_type": "code",
   "execution_count": 51,
   "metadata": {
    "colab": {
     "base_uri": "https://localhost:8080/",
     "height": 277
    },
    "colab_type": "code",
    "id": "S9EccVkD7i9r",
    "outputId": "4902bb94-39e2-42e5-daef-fc99e4a359bf"
   },
   "outputs": [
    {
     "data": {
      "text/plain": [
       "['full_numpy_bitmap_apple.npy',\n",
       " 'full_numpy_bitmap_bowtie.npy',\n",
       " 'full_numpy_bitmap_candle.npy',\n",
       " 'full_numpy_bitmap_door.npy',\n",
       " 'full_numpy_bitmap_envelope.npy',\n",
       " 'full_numpy_bitmap_fish.npy',\n",
       " 'full_numpy_bitmap_guitar.npy',\n",
       " 'full_numpy_bitmap_ice cream.npy',\n",
       " 'full_numpy_bitmap_lightning.npy',\n",
       " 'full_numpy_bitmap_moon.npy',\n",
       " 'full_numpy_bitmap_mountain.npy',\n",
       " 'full_numpy_bitmap_star.npy',\n",
       " 'full_numpy_bitmap_tent.npy',\n",
       " 'full_numpy_bitmap_toothbrush.npy',\n",
       " 'full_numpy_bitmap_wristwatch.npy']"
      ]
     },
     "execution_count": 51,
     "metadata": {},
     "output_type": "execute_result"
    }
   ],
   "source": [
    "dataset = os.listdir(data_directory_path)[1:]\n",
    "dataset"
   ]
  },
  {
   "cell_type": "code",
   "execution_count": 52,
   "metadata": {
    "colab": {},
    "colab_type": "code",
    "id": "k19WIu3w-Z2f"
   },
   "outputs": [],
   "source": [
    "data = []\n",
    "data_load = []\n",
    "y = []\n",
    "y_load = []"
   ]
  },
  {
   "cell_type": "code",
   "execution_count": 53,
   "metadata": {
    "colab": {},
    "colab_type": "code",
    "id": "XnGw9A4077V5"
   },
   "outputs": [],
   "source": [
    "def load_data():\n",
    "  ctr=0\n",
    "  for file in dataset:\n",
    "    file = data_directory_path + \"/\" + file\n",
    "    data = np.load(file)\n",
    "    # print (file + \":\")\n",
    "    # print (data.shape[0])\n",
    "    # print (data)\n",
    "    data = data.astype('float32') /255\n",
    "    data = data[0:10000, :]\n",
    "    # print (file + \":\")\n",
    "    # print (data.shape[0])\n",
    "    # print (data)\n",
    "    data_load.append(data)\n",
    "    # print (data_load)\n",
    "    y=[ctr for _ in range(10000)]\n",
    "    ctr += 1\n",
    "    y = np.array(y).astype('float32')\n",
    "    y = y.reshape(y.shape[0], 1)\n",
    "    y_load.append(y)\n",
    "  # print (y_load)\n",
    "  return data_load, y_load\n"
   ]
  },
  {
   "cell_type": "code",
   "execution_count": 54,
   "metadata": {
    "colab": {},
    "colab_type": "code",
    "id": "faKkcy6QBI43"
   },
   "outputs": [],
   "source": [
    "features, labels = load_data()"
   ]
  },
  {
   "cell_type": "code",
   "execution_count": 55,
   "metadata": {},
   "outputs": [
    {
     "data": {
      "text/plain": [
       "(15, 10000, 784)"
      ]
     },
     "execution_count": 55,
     "metadata": {},
     "output_type": "execute_result"
    }
   ],
   "source": [
    "features = np.array(features)\n",
    "features.shape"
   ]
  },
  {
   "cell_type": "code",
   "execution_count": 58,
   "metadata": {},
   "outputs": [],
   "source": [
    "features = features.reshape(15, 10000, 28, 28)"
   ]
  },
  {
   "cell_type": "code",
   "execution_count": 59,
   "metadata": {},
   "outputs": [
    {
     "data": {
      "text/plain": [
       "(15, 10000, 28, 28)"
      ]
     },
     "execution_count": 59,
     "metadata": {},
     "output_type": "execute_result"
    }
   ],
   "source": [
    "features.shape"
   ]
  },
  {
   "cell_type": "code",
   "execution_count": 56,
   "metadata": {},
   "outputs": [
    {
     "data": {
      "text/plain": [
       "(15, 10000, 1)"
      ]
     },
     "execution_count": 56,
     "metadata": {},
     "output_type": "execute_result"
    }
   ],
   "source": [
    "labels = np.array(labels)\n",
    "labels.shape"
   ]
  },
  {
   "cell_type": "code",
   "execution_count": 61,
   "metadata": {
    "collapsed": true
   },
   "outputs": [
    {
     "data": {
      "text/plain": [
       "array([[0.        , 0.        , 0.        , 0.        , 0.        ,\n",
       "        0.        , 0.        , 0.        , 0.        , 0.        ,\n",
       "        0.        , 0.        , 0.        , 0.        , 0.        ,\n",
       "        0.        , 0.        , 0.        , 0.        , 0.        ,\n",
       "        0.        , 0.        , 0.        , 0.        , 0.        ,\n",
       "        0.        , 0.        , 0.        ],\n",
       "       [0.        , 0.        , 0.        , 0.        , 0.        ,\n",
       "        0.        , 0.        , 0.        , 0.        , 0.        ,\n",
       "        0.        , 0.        , 0.        , 0.        , 0.04313726,\n",
       "        0.08235294, 0.04705882, 0.        , 0.        , 0.        ,\n",
       "        0.        , 0.        , 0.        , 0.        , 0.        ,\n",
       "        0.36078432, 0.07843138, 0.        ],\n",
       "       [0.        , 0.        , 0.        , 0.        , 0.        ,\n",
       "        0.        , 0.        , 0.        , 0.        , 0.        ,\n",
       "        0.        , 0.        , 0.35686275, 0.8352941 , 0.99215686,\n",
       "        1.        , 1.        , 0.87058824, 0.37254903, 0.01176471,\n",
       "        0.        , 0.        , 0.        , 0.        , 0.02745098,\n",
       "        1.        , 0.87058824, 0.        ],\n",
       "       [0.        , 0.        , 0.        , 0.        , 0.        ,\n",
       "        0.        , 0.        , 0.        , 0.        , 0.        ,\n",
       "        0.09411765, 0.74509805, 1.        , 0.76862746, 0.4627451 ,\n",
       "        0.39215687, 0.42745098, 0.76862746, 1.        , 0.4745098 ,\n",
       "        0.        , 0.        , 0.        , 0.        , 0.        ,\n",
       "        0.5529412 , 0.13725491, 0.        ],\n",
       "       [0.        , 0.        , 0.        , 0.        , 0.        ,\n",
       "        0.        , 0.        , 0.        , 0.        , 0.00392157,\n",
       "        0.7254902 , 0.94509804, 0.36862746, 0.00392157, 0.        ,\n",
       "        0.        , 0.        , 0.        , 0.24705882, 0.09803922,\n",
       "        0.        , 0.        , 0.        , 0.        , 0.        ,\n",
       "        0.        , 0.        , 0.        ],\n",
       "       [0.        , 0.        , 0.        , 0.        , 0.        ,\n",
       "        0.        , 0.        , 0.        , 0.        , 0.34901962,\n",
       "        1.        , 0.4509804 , 0.52156866, 0.5882353 , 0.14509805,\n",
       "        0.        , 0.        , 0.        , 0.        , 0.        ,\n",
       "        0.        , 0.        , 0.        , 0.        , 0.        ,\n",
       "        0.        , 0.        , 0.        ],\n",
       "       [0.        , 0.        , 0.        , 0.        , 0.        ,\n",
       "        0.        , 0.        , 0.        , 0.        , 0.8117647 ,\n",
       "        0.94509804, 0.9882353 , 1.        , 0.98039216, 0.78039217,\n",
       "        0.        , 0.        , 0.        , 0.        , 0.        ,\n",
       "        0.        , 0.        , 0.        , 0.        , 0.        ,\n",
       "        0.        , 0.        , 0.        ],\n",
       "       [0.        , 0.        , 0.        , 0.        , 0.        ,\n",
       "        0.        , 0.        , 0.11764706, 0.78431374, 1.        ,\n",
       "        0.9490196 , 0.58431375, 0.9882353 , 0.9098039 , 0.7647059 ,\n",
       "        0.01176471, 0.        , 0.        , 0.        , 0.        ,\n",
       "        0.        , 0.        , 0.        , 0.        , 0.        ,\n",
       "        0.        , 0.        , 0.        ],\n",
       "       [0.        , 0.        , 0.        , 0.        , 0.        ,\n",
       "        0.        , 0.15294118, 0.88235295, 0.93333334, 1.        ,\n",
       "        0.33333334, 0.        , 0.46666667, 1.        , 0.3254902 ,\n",
       "        0.        , 0.        , 0.        , 0.        , 0.        ,\n",
       "        0.        , 0.        , 0.        , 0.        , 0.        ,\n",
       "        0.        , 0.        , 0.        ],\n",
       "       [0.        , 0.        , 0.        , 0.        , 0.        ,\n",
       "        0.16862746, 0.8980392 , 0.90588236, 0.41568628, 1.        ,\n",
       "        0.19215687, 0.        , 0.00392157, 0.7882353 , 0.87058824,\n",
       "        0.02745098, 0.        , 0.        , 0.        , 0.        ,\n",
       "        0.        , 0.        , 0.        , 0.        , 0.        ,\n",
       "        0.        , 0.        , 0.        ],\n",
       "       [0.        , 0.        , 0.        , 0.        , 0.12941177,\n",
       "        0.92941177, 0.8627451 , 0.12941177, 0.30980393, 1.        ,\n",
       "        0.29411766, 0.        , 0.        , 0.23921569, 1.        ,\n",
       "        0.36862746, 0.        , 0.        , 0.        , 0.        ,\n",
       "        0.        , 0.        , 0.        , 0.        , 0.        ,\n",
       "        0.        , 0.        , 0.        ],\n",
       "       [0.        , 0.        , 0.        , 0.01568628, 0.77254903,\n",
       "        0.92156863, 0.10980392, 0.        , 0.01568628, 0.8235294 ,\n",
       "        0.6509804 , 0.        , 0.        , 0.00392157, 0.98039216,\n",
       "        0.49803922, 0.        , 0.        , 0.        , 0.        ,\n",
       "        0.        , 0.        , 0.        , 0.        , 0.        ,\n",
       "        0.        , 0.        , 0.        ],\n",
       "       [0.        , 0.        , 0.        , 0.5019608 , 1.        ,\n",
       "        0.33333334, 0.        , 0.        , 0.        , 0.06666667,\n",
       "        0.0627451 , 0.        , 0.        , 0.        , 0.90588236,\n",
       "        0.57254905, 0.        , 0.        , 0.        , 0.        ,\n",
       "        0.        , 0.        , 0.        , 0.        , 0.        ,\n",
       "        0.        , 0.        , 0.        ],\n",
       "       [0.        , 0.        , 0.21960784, 0.9843137 , 0.6       ,\n",
       "        0.        , 0.        , 0.        , 0.        , 0.        ,\n",
       "        0.        , 0.        , 0.        , 0.        , 0.89411765,\n",
       "        0.5803922 , 0.        , 0.        , 0.        , 0.        ,\n",
       "        0.        , 0.        , 0.        , 0.        , 0.        ,\n",
       "        0.        , 0.        , 0.        ],\n",
       "       [0.        , 0.        , 0.63529414, 0.8980392 , 0.04313726,\n",
       "        0.        , 0.        , 0.        , 0.        , 0.        ,\n",
       "        0.        , 0.        , 0.        , 0.        , 0.9647059 ,\n",
       "        0.5137255 , 0.        , 0.        , 0.        , 0.        ,\n",
       "        0.        , 0.        , 0.        , 0.        , 0.        ,\n",
       "        0.        , 0.        , 0.        ],\n",
       "       [0.        , 0.        , 0.85882354, 0.64705884, 0.        ,\n",
       "        0.        , 0.        , 0.        , 0.        , 0.        ,\n",
       "        0.        , 0.        , 0.        , 0.05098039, 1.        ,\n",
       "        0.43529412, 0.        , 0.        , 0.        , 0.        ,\n",
       "        0.        , 0.        , 0.        , 0.        , 0.        ,\n",
       "        0.        , 0.        , 0.        ],\n",
       "       [0.        , 0.08235294, 0.99607843, 0.42745098, 0.        ,\n",
       "        0.        , 0.        , 0.        , 0.        , 0.        ,\n",
       "        0.        , 0.        , 0.        , 0.30588236, 1.        ,\n",
       "        0.22745098, 0.        , 0.        , 0.        , 0.        ,\n",
       "        0.        , 0.        , 0.        , 0.        , 0.        ,\n",
       "        0.        , 0.        , 0.        ],\n",
       "       [0.        , 0.30588236, 1.        , 0.2       , 0.        ,\n",
       "        0.        , 0.        , 0.        , 0.        , 0.        ,\n",
       "        0.        , 0.        , 0.        , 0.59607846, 0.92941177,\n",
       "        0.01176471, 0.        , 0.        , 0.        , 0.        ,\n",
       "        0.        , 0.        , 0.        , 0.        , 0.        ,\n",
       "        0.        , 0.        , 0.        ],\n",
       "       [0.        , 0.47058824, 0.99607843, 0.01960784, 0.        ,\n",
       "        0.        , 0.        , 0.        , 0.        , 0.        ,\n",
       "        0.        , 0.        , 0.01176471, 0.89411765, 0.64705884,\n",
       "        0.        , 0.        , 0.        , 0.        , 0.        ,\n",
       "        0.        , 0.        , 0.        , 0.        , 0.        ,\n",
       "        0.        , 0.        , 0.        ],\n",
       "       [0.        , 0.48235294, 0.99607843, 0.        , 0.        ,\n",
       "        0.        , 0.        , 0.        , 0.        , 0.        ,\n",
       "        0.        , 0.        , 0.28235295, 1.        , 0.2901961 ,\n",
       "        0.        , 0.        , 0.        , 0.        , 0.        ,\n",
       "        0.        , 0.        , 0.        , 0.        , 0.        ,\n",
       "        0.        , 0.        , 0.        ],\n",
       "       [0.        , 0.44705883, 1.        , 0.05098039, 0.        ,\n",
       "        0.        , 0.        , 0.        , 0.        , 0.        ,\n",
       "        0.        , 0.        , 0.6627451 , 0.8980392 , 0.01176471,\n",
       "        0.        , 0.        , 0.        , 0.        , 0.        ,\n",
       "        0.        , 0.        , 0.        , 0.        , 0.        ,\n",
       "        0.        , 0.        , 0.        ],\n",
       "       [0.        , 0.23529412, 1.        , 0.27450982, 0.        ,\n",
       "        0.        , 0.        , 0.        , 0.        , 0.        ,\n",
       "        0.        , 0.20784314, 0.9882353 , 0.5058824 , 0.        ,\n",
       "        0.        , 0.        , 0.        , 0.        , 0.        ,\n",
       "        0.        , 0.        , 0.        , 0.        , 0.        ,\n",
       "        0.        , 0.        , 0.        ],\n",
       "       [0.        , 0.02745098, 0.9372549 , 0.68235296, 0.        ,\n",
       "        0.        , 0.        , 0.        , 0.        , 0.        ,\n",
       "        0.02352941, 0.8156863 , 0.87058824, 0.04313726, 0.        ,\n",
       "        0.        , 0.        , 0.        , 0.        , 0.        ,\n",
       "        0.        , 0.        , 0.        , 0.        , 0.        ,\n",
       "        0.        , 0.        , 0.        ],\n",
       "       [0.        , 0.        , 0.43137255, 1.        , 0.39215687,\n",
       "        0.        , 0.        , 0.        , 0.        , 0.01176471,\n",
       "        0.6666667 , 0.99215686, 0.27450982, 0.        , 0.        ,\n",
       "        0.        , 0.        , 0.        , 0.        , 0.        ,\n",
       "        0.        , 0.        , 0.        , 0.        , 0.        ,\n",
       "        0.        , 0.        , 0.        ],\n",
       "       [0.        , 0.        , 0.01176471, 0.7058824 , 1.        ,\n",
       "        0.69803923, 0.3882353 , 0.26666668, 0.35686275, 0.78431374,\n",
       "        0.99607843, 0.40784314, 0.        , 0.        , 0.        ,\n",
       "        0.        , 0.        , 0.        , 0.        , 0.        ,\n",
       "        0.        , 0.        , 0.        , 0.        , 0.        ,\n",
       "        0.        , 0.        , 0.        ],\n",
       "       [0.        , 0.        , 0.        , 0.00784314, 0.45490196,\n",
       "        0.87058824, 1.        , 1.        , 1.        , 0.8352941 ,\n",
       "        0.34117648, 0.        , 0.        , 0.        , 0.        ,\n",
       "        0.        , 0.        , 0.        , 0.        , 0.        ,\n",
       "        0.        , 0.        , 0.        , 0.        , 0.        ,\n",
       "        0.        , 0.        , 0.        ],\n",
       "       [0.        , 0.        , 0.        , 0.        , 0.        ,\n",
       "        0.        , 0.1254902 , 0.2       , 0.17254902, 0.00392157,\n",
       "        0.        , 0.        , 0.        , 0.        , 0.        ,\n",
       "        0.        , 0.        , 0.        , 0.        , 0.        ,\n",
       "        0.        , 0.        , 0.        , 0.        , 0.        ,\n",
       "        0.        , 0.        , 0.        ],\n",
       "       [0.        , 0.        , 0.        , 0.        , 0.        ,\n",
       "        0.        , 0.        , 0.        , 0.        , 0.        ,\n",
       "        0.        , 0.        , 0.        , 0.        , 0.        ,\n",
       "        0.        , 0.        , 0.        , 0.        , 0.        ,\n",
       "        0.        , 0.        , 0.        , 0.        , 0.        ,\n",
       "        0.        , 0.        , 0.        ]], dtype=float32)"
      ]
     },
     "execution_count": 61,
     "metadata": {},
     "output_type": "execute_result"
    }
   ],
   "source": [
    "#image example\n",
    "features[0][0]"
   ]
  },
  {
   "cell_type": "code",
   "execution_count": 64,
   "metadata": {},
   "outputs": [],
   "source": [
    "img = Image.fromarray(features[0][0], \"L\")\n",
    "img.show()"
   ]
  },
  {
   "cell_type": "code",
   "execution_count": 72,
   "metadata": {},
   "outputs": [
    {
     "name": "stdout",
     "output_type": "stream",
     "text": [
      "(15, 10000, 28, 28)\n",
      "(15, 10000, 1)\n"
     ]
    }
   ],
   "source": [
    "print(features.shape)\n",
    "print(labels.shape)"
   ]
  },
  {
   "cell_type": "code",
   "execution_count": 80,
   "metadata": {},
   "outputs": [],
   "source": [
    "from sklearn.model_selection import train_test_split"
   ]
  },
  {
   "cell_type": "code",
   "execution_count": 89,
   "metadata": {},
   "outputs": [],
   "source": [
    "train_ids, valtest_ids = train_test_split(np.arange(10000), test_size=0.3)"
   ]
  },
  {
   "cell_type": "code",
   "execution_count": 90,
   "metadata": {},
   "outputs": [],
   "source": [
    "val_ids, test_ids = train_test_split(valtest_ids, test_size=0.5)"
   ]
  },
  {
   "cell_type": "code",
   "execution_count": 128,
   "metadata": {},
   "outputs": [],
   "source": [
    "dataset_dict = {\n",
    "    \"train\":train_ids,\n",
    "    \"valid\":val_ids,\n",
    "    \"test\":test_ids\n",
    "}"
   ]
  },
  {
   "cell_type": "code",
   "execution_count": 132,
   "metadata": {},
   "outputs": [],
   "source": [
    "for name, partition in dataset_dict.items():\n",
    "    for image_id in partition:\n",
    "        for i in np.arange(15):\n",
    "            img = Image.fromarray(features[i][image_id], \"L\")\n",
    "            create_path = \"F:\\\\Google Drive back ups\\\\Sem 2\\\\Artificial Intelligence\\\\AI Group Project\\\\DatasetDownload\\\\doodlesdataset\\\\\"+name+\"\\\\\"+str(i)\n",
    "            if not os.path.exists(create_path):\n",
    "                os.makedirs(create_path)\n",
    "            img.save(create_path+\"\\\\\"+str(image_id)+\".jpg\")"
   ]
  },
  {
   "cell_type": "code",
   "execution_count": 127,
   "metadata": {},
   "outputs": [],
   "source": []
  },
  {
   "cell_type": "code",
   "execution_count": null,
   "metadata": {},
   "outputs": [],
   "source": []
  }
 ],
 "metadata": {
  "accelerator": "GPU",
  "colab": {
   "collapsed_sections": [],
   "machine_shape": "hm",
   "name": "LoadData.ipynb",
   "provenance": []
  },
  "kernelspec": {
   "display_name": "Python 3",
   "language": "python",
   "name": "python3"
  },
  "language_info": {
   "codemirror_mode": {
    "name": "ipython",
    "version": 3
   },
   "file_extension": ".py",
   "mimetype": "text/x-python",
   "name": "python",
   "nbconvert_exporter": "python",
   "pygments_lexer": "ipython3",
   "version": "3.6.8"
  },
  "pycharm": {
   "stem_cell": {
    "cell_type": "raw",
    "metadata": {
     "collapsed": false
    },
    "source": []
   }
  }
 },
 "nbformat": 4,
 "nbformat_minor": 1
}
