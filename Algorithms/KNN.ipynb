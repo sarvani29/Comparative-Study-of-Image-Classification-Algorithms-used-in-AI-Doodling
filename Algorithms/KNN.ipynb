{
  "nbformat": 4,
  "nbformat_minor": 0,
  "metadata": {
    "colab": {
      "name": "AI project_KNN.ipynb",
      "provenance": []
    },
    "kernelspec": {
      "name": "python3",
      "display_name": "Python 3"
    }
  },
  "cells": [
    {
      "cell_type": "code",
      "metadata": {
        "id": "fjc68pe9CBG1",
        "colab_type": "code",
        "colab": {}
      },
      "source": [
        "import pandas as pd\n",
        "import os\n",
        "import numpy as np\n",
        "from sklearn.utils import shuffle\n",
        "from ast import literal_eval\n",
        "from sklearn.neighbors import KNeighborsClassifier\n",
        "from sklearn.model_selection import train_test_split, GridSearchCV\n",
        "from sklearn.metrics import accuracy_score, confusion_matrix, roc_curve, roc_auc_score"
      ],
      "execution_count": 0,
      "outputs": []
    },
    {
      "cell_type": "code",
      "metadata": {
        "id": "dibuYADTDfRE",
        "colab_type": "code",
        "colab": {
          "base_uri": "https://localhost:8080/",
          "height": 284
        },
        "outputId": "dec6a9db-7435-4ffd-af24-6a4369e13dbb"
      },
      "source": [
        "files = os.listdir(\"/content/drive/My Drive/Data\")\n",
        "files"
      ],
      "execution_count": 2,
      "outputs": [
        {
          "output_type": "execute_result",
          "data": {
            "text/plain": [
              "['full_numpy_bitmap_apple.npy',\n",
              " 'full_numpy_bitmap_bowtie.npy',\n",
              " 'full_numpy_bitmap_candle.npy',\n",
              " 'full_numpy_bitmap_door.npy',\n",
              " 'full_numpy_bitmap_envelope.npy',\n",
              " 'full_numpy_bitmap_fish.npy',\n",
              " 'full_numpy_bitmap_guitar.npy',\n",
              " 'full_numpy_bitmap_ice cream.npy',\n",
              " 'full_numpy_bitmap_lightning.npy',\n",
              " 'full_numpy_bitmap_moon.npy',\n",
              " 'full_numpy_bitmap_mountain.npy',\n",
              " 'full_numpy_bitmap_star.npy',\n",
              " 'full_numpy_bitmap_tent.npy',\n",
              " 'full_numpy_bitmap_toothbrush.npy',\n",
              " 'full_numpy_bitmap_wristwatch.npy']"
            ]
          },
          "metadata": {
            "tags": []
          },
          "execution_count": 2
        }
      ]
    },
    {
      "cell_type": "code",
      "metadata": {
        "id": "DjJ_D9IZDnPz",
        "colab_type": "code",
        "colab": {}
      },
      "source": [
        "x = []\n",
        "x_load = []\n",
        "y = []\n",
        "y_load = []"
      ],
      "execution_count": 0,
      "outputs": []
    },
    {
      "cell_type": "code",
      "metadata": {
        "id": "XAIePKIYD--a",
        "colab_type": "code",
        "colab": {}
      },
      "source": [
        "def load_data():\n",
        "    count = 0\n",
        "    for file in files:\n",
        "        file = \"/content/drive/My Drive/Data/\" + file\n",
        "        x = np.load(file)\n",
        "        x = x.astype('float32') / 255.\n",
        "        x = x[0:10000, :]\n",
        "        x_load.append(x)\n",
        "        y = [count for _ in range(10000)]\n",
        "        count += 1\n",
        "        y = np.array(y).astype('float32')\n",
        "        y = y.reshape(y.shape[0], 1)\n",
        "        y_load.append(y)\n",
        "    return x_load, y_load"
      ],
      "execution_count": 0,
      "outputs": []
    },
    {
      "cell_type": "code",
      "metadata": {
        "id": "SGtvcTvrEEe4",
        "colab_type": "code",
        "colab": {}
      },
      "source": [
        "X,y = load_data()"
      ],
      "execution_count": 0,
      "outputs": []
    },
    {
      "cell_type": "code",
      "metadata": {
        "id": "-6Y3D6vVFZH4",
        "colab_type": "code",
        "colab": {}
      },
      "source": [
        "X = np.array(X).astype('float32')\n",
        "y = np.array(y).astype('float32')\n",
        "X = X.reshape(X.shape[0]*X.shape[1],X.shape[2])\n",
        "y = y.reshape(y.shape[0]*y.shape[1],y.shape[2])"
      ],
      "execution_count": 0,
      "outputs": []
    },
    {
      "cell_type": "code",
      "metadata": {
        "id": "tEx8xzG3FmG6",
        "colab_type": "code",
        "colab": {}
      },
      "source": [
        "X_train, X_test, y_train, y_test = train_test_split(X,y,test_size=0.5,random_state=0)"
      ],
      "execution_count": 0,
      "outputs": []
    },
    {
      "cell_type": "code",
      "metadata": {
        "id": "XvRzVoFlFoHa",
        "colab_type": "code",
        "colab": {
          "base_uri": "https://localhost:8080/",
          "height": 90
        },
        "outputId": "d71b93bf-68d4-46b6-d8ff-7ad47a27b83b"
      },
      "source": [
        "best_clf_knn = KNeighborsClassifier(n_neighbors = 5 ,n_jobs=-1)\n",
        "best_clf_knn.fit(X_train, y_train)\n",
        "y_pred_knn = best_clf_knn.predict(X_test)\n",
        "acc_knn = accuracy_score(y_test, y_pred_knn)\n",
        "print ('KNN accuracy: ',acc_knn)"
      ],
      "execution_count": 14,
      "outputs": [
        {
          "output_type": "stream",
          "text": [
            "/usr/local/lib/python3.6/dist-packages/ipykernel_launcher.py:2: DataConversionWarning: A column-vector y was passed when a 1d array was expected. Please change the shape of y to (n_samples, ), for example using ravel().\n",
            "  \n"
          ],
          "name": "stderr"
        },
        {
          "output_type": "stream",
          "text": [
            "KNN accuracy:  0.8620133333333333\n"
          ],
          "name": "stdout"
        }
      ]
    }
  ]
}