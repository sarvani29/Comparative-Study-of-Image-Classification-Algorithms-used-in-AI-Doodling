{
  "nbformat": 4,
  "nbformat_minor": 0,
  "metadata": {
    "colab": {
      "name": "CNN-sgd.ipynb",
      "provenance": []
    },
    "kernelspec": {
      "name": "python3",
      "display_name": "Python 3"
    }
  },
  "cells": [
    {
      "cell_type": "code",
      "metadata": {
        "id": "PMBHQEsQUbp5",
        "colab_type": "code",
        "colab": {
          "base_uri": "https://localhost:8080/",
          "height": 35
        },
        "outputId": "f9c07b5e-3a74-467c-be5a-887ff68d20f0"
      },
      "source": [
        "%tensorflow_version 1.x"
      ],
      "execution_count": 17,
      "outputs": [
        {
          "output_type": "stream",
          "text": [
            "TensorFlow is already loaded. Please restart the runtime to change versions.\n"
          ],
          "name": "stdout"
        }
      ]
    },
    {
      "cell_type": "code",
      "metadata": {
        "id": "FalNrMK1R4gt",
        "colab_type": "code",
        "colab": {}
      },
      "source": [
        "import numpy as np\n",
        "import os\n",
        "import pickle\n",
        "from sklearn.model_selection import train_test_split\n",
        "from sklearn.utils import shuffle\n",
        "from keras.layers import Dense,Flatten, Conv2D\n",
        "from keras.layers import MaxPooling2D, Dropout\n",
        "from keras.utils import np_utils, print_summary\n",
        "import tensorflow as tf\n",
        "from keras.models import Sequential\n",
        "from keras.callbacks import ModelCheckpoint\n",
        "from keras.callbacks import TensorBoard"
      ],
      "execution_count": 0,
      "outputs": []
    },
    {
      "cell_type": "code",
      "metadata": {
        "id": "F4Sja1S8S73B",
        "colab_type": "code",
        "colab": {
          "base_uri": "https://localhost:8080/",
          "height": 284
        },
        "outputId": "041ca707-ce43-4f46-94a9-398b58dad8b9"
      },
      "source": [
        "files = os.listdir(\"/content/drive/My Drive/Data\")\n",
        "files"
      ],
      "execution_count": 19,
      "outputs": [
        {
          "output_type": "execute_result",
          "data": {
            "text/plain": [
              "['full_numpy_bitmap_apple.npy',\n",
              " 'full_numpy_bitmap_bowtie.npy',\n",
              " 'full_numpy_bitmap_candle.npy',\n",
              " 'full_numpy_bitmap_door.npy',\n",
              " 'full_numpy_bitmap_envelope.npy',\n",
              " 'full_numpy_bitmap_fish.npy',\n",
              " 'full_numpy_bitmap_guitar.npy',\n",
              " 'full_numpy_bitmap_ice cream.npy',\n",
              " 'full_numpy_bitmap_lightning.npy',\n",
              " 'full_numpy_bitmap_moon.npy',\n",
              " 'full_numpy_bitmap_mountain.npy',\n",
              " 'full_numpy_bitmap_star.npy',\n",
              " 'full_numpy_bitmap_tent.npy',\n",
              " 'full_numpy_bitmap_toothbrush.npy',\n",
              " 'full_numpy_bitmap_wristwatch.npy']"
            ]
          },
          "metadata": {
            "tags": []
          },
          "execution_count": 19
        }
      ]
    },
    {
      "cell_type": "code",
      "metadata": {
        "id": "rGfBFOfyS-CS",
        "colab_type": "code",
        "colab": {}
      },
      "source": [
        "x = []\n",
        "x_load = []\n",
        "y = []\n",
        "y_load = []"
      ],
      "execution_count": 0,
      "outputs": []
    },
    {
      "cell_type": "code",
      "metadata": {
        "id": "zW-l5VVhTBak",
        "colab_type": "code",
        "colab": {}
      },
      "source": [
        "def load_data():\n",
        "    count = 0\n",
        "    for file in files:\n",
        "        file = \"/content/drive/My Drive/Data/\" + file\n",
        "        x = np.load(file)\n",
        "        x = x.astype('float32') / 255.\n",
        "        x = x[0:10000, :]\n",
        "        x_load.append(x)\n",
        "        y = [count for _ in range(10000)]\n",
        "        count += 1\n",
        "        y = np.array(y).astype('float32')\n",
        "        y = y.reshape(y.shape[0], 1)\n",
        "        y_load.append(y)\n",
        "    return x_load, y_load"
      ],
      "execution_count": 0,
      "outputs": []
    },
    {
      "cell_type": "code",
      "metadata": {
        "id": "_IYIhvLQTDna",
        "colab_type": "code",
        "colab": {}
      },
      "source": [
        "features, labels = load_data()"
      ],
      "execution_count": 0,
      "outputs": []
    },
    {
      "cell_type": "code",
      "metadata": {
        "id": "HJBgvGZBTFee",
        "colab_type": "code",
        "colab": {}
      },
      "source": [
        "features = np.array(features).astype('float32')"
      ],
      "execution_count": 0,
      "outputs": []
    },
    {
      "cell_type": "code",
      "metadata": {
        "id": "0fFNbGndTKVE",
        "colab_type": "code",
        "colab": {}
      },
      "source": [
        "labels = np.array(labels).astype('float32')"
      ],
      "execution_count": 0,
      "outputs": []
    },
    {
      "cell_type": "code",
      "metadata": {
        "id": "xCzDzDa8TNr1",
        "colab_type": "code",
        "colab": {}
      },
      "source": [
        "features=features.reshape(features.shape[0]*features.shape[1],features.shape[2])"
      ],
      "execution_count": 0,
      "outputs": []
    },
    {
      "cell_type": "code",
      "metadata": {
        "id": "rFpiwye_TQFS",
        "colab_type": "code",
        "colab": {}
      },
      "source": [
        "labels=labels.reshape(labels.shape[0]*labels.shape[1],labels.shape[2])"
      ],
      "execution_count": 0,
      "outputs": []
    },
    {
      "cell_type": "code",
      "metadata": {
        "id": "xSRkdrlJTRtX",
        "colab_type": "code",
        "colab": {}
      },
      "source": [
        "with open(\"features\", \"wb\") as f:\n",
        "    pickle.dump(features, f, protocol=4)\n",
        "with open(\"labels\", \"wb\") as f:\n",
        "    pickle.dump(labels, f, protocol=4)"
      ],
      "execution_count": 0,
      "outputs": []
    },
    {
      "cell_type": "code",
      "metadata": {
        "id": "qEDTKU9kTTkW",
        "colab_type": "code",
        "colab": {}
      },
      "source": [
        "def keras_model(image_x, image_y):\n",
        "    num_of_classes = 15\n",
        "    model = Sequential()\n",
        "    model.add(Conv2D(32, (5, 5), input_shape=(image_x,image_y,1), activation='relu'))\n",
        "    model.add(MaxPooling2D(pool_size=(2, 2), strides=(2, 2), padding='same'))\n",
        "    model.add(Conv2D(64, (5, 5), activation='relu'))\n",
        "    model.add(MaxPooling2D(pool_size=(2, 2), strides=(2, 2), padding='same'))\n",
        "\n",
        "    model.add(Flatten())\n",
        "    model.add(Dense(512, activation='relu'))\n",
        "    model.add(Dropout(0.6))\n",
        "    model.add(Dense(128, activation='relu'))\n",
        "    model.add(Dropout(0.6))\n",
        "    model.add(Dense(num_of_classes, activation='softmax'))\n",
        "\n",
        "    model.compile(loss='categorical_crossentropy', optimizer='sgd', metrics=['accuracy'])\n",
        "    filepath = \"QuickDraw.h5\"\n",
        "    checkpoint = ModelCheckpoint(filepath, monitor='val_acc', verbose=1, save_best_only=True, mode='max')\n",
        "    callbacks_list = [checkpoint]\n",
        "\n",
        "    return model, callbacks_list"
      ],
      "execution_count": 0,
      "outputs": []
    },
    {
      "cell_type": "code",
      "metadata": {
        "id": "ihhRg4INT5v0",
        "colab_type": "code",
        "colab": {}
      },
      "source": [
        "def loadFromPickle():\n",
        "    with open(\"features\", \"rb\") as f:\n",
        "        features = np.array(pickle.load(f))\n",
        "    with open(\"labels\", \"rb\") as f:\n",
        "        labels = np.array(pickle.load(f))\n",
        "\n",
        "    return features, labels"
      ],
      "execution_count": 0,
      "outputs": []
    },
    {
      "cell_type": "code",
      "metadata": {
        "id": "rJHjCKdPT9u2",
        "colab_type": "code",
        "colab": {}
      },
      "source": [
        "def augmentData(features, labels):\n",
        "    features = np.append(features, features[:, :, ::-1], axis=0)\n",
        "    labels = np.append(labels, -labels, axis=0)\n",
        "    return features, labels"
      ],
      "execution_count": 0,
      "outputs": []
    },
    {
      "cell_type": "code",
      "metadata": {
        "id": "-e8Ct5zjT_js",
        "colab_type": "code",
        "colab": {}
      },
      "source": [
        "def prepress_labels(labels):\n",
        "    labels = np_utils.to_categorical(labels)\n",
        "    return labels"
      ],
      "execution_count": 0,
      "outputs": []
    },
    {
      "cell_type": "code",
      "metadata": {
        "id": "CE3VA_C9UBdf",
        "colab_type": "code",
        "colab": {
          "base_uri": "https://localhost:8080/",
          "height": 784
        },
        "outputId": "a6291f04-d117-4c03-a57b-38caf8ddbb30"
      },
      "source": [
        "def main():\n",
        "    features, labels = loadFromPickle()\n",
        "    # features, labels = augmentData(features, labels)\n",
        "    features, labels = shuffle(features, labels)\n",
        "    labels=prepress_labels(labels)\n",
        "    train_x, test_x, train_y, test_y = train_test_split(features, labels, random_state=0,\n",
        "                                                        test_size=0.1)\n",
        "    train_x = train_x.reshape(train_x.shape[0], 28, 28, 1)\n",
        "    test_x = test_x.reshape(test_x.shape[0], 28, 28, 1)\n",
        "    model, callbacks_list = keras_model(28,28)\n",
        "    print_summary(model)\n",
        "    model.fit(train_x, train_y, validation_data=(test_x, test_y), epochs=3, batch_size=64,\n",
        "              callbacks=[TensorBoard(log_dir=\"QuickDraw\")])\n",
        "    model.save('QuickDraw.h5')\n",
        "\n",
        "main()"
      ],
      "execution_count": 32,
      "outputs": [
        {
          "output_type": "stream",
          "text": [
            "WARNING:tensorflow:Large dropout rate: 0.6 (>0.5). In TensorFlow 2.x, dropout() uses dropout rate instead of keep_prob. Please ensure that this is intended.\n",
            "WARNING:tensorflow:Large dropout rate: 0.6 (>0.5). In TensorFlow 2.x, dropout() uses dropout rate instead of keep_prob. Please ensure that this is intended.\n",
            "WARNING:tensorflow:From /usr/local/lib/python3.6/dist-packages/keras/backend/tensorflow_backend.py:3576: The name tf.log is deprecated. Please use tf.math.log instead.\n",
            "\n",
            "Model: \"sequential_2\"\n",
            "_________________________________________________________________\n",
            "Layer (type)                 Output Shape              Param #   \n",
            "=================================================================\n",
            "conv2d_3 (Conv2D)            (None, 24, 24, 32)        832       \n",
            "_________________________________________________________________\n",
            "max_pooling2d_3 (MaxPooling2 (None, 12, 12, 32)        0         \n",
            "_________________________________________________________________\n",
            "conv2d_4 (Conv2D)            (None, 8, 8, 64)          51264     \n",
            "_________________________________________________________________\n",
            "max_pooling2d_4 (MaxPooling2 (None, 4, 4, 64)          0         \n",
            "_________________________________________________________________\n",
            "flatten_2 (Flatten)          (None, 1024)              0         \n",
            "_________________________________________________________________\n",
            "dense_4 (Dense)              (None, 512)               524800    \n",
            "_________________________________________________________________\n",
            "dropout_3 (Dropout)          (None, 512)               0         \n",
            "_________________________________________________________________\n",
            "dense_5 (Dense)              (None, 128)               65664     \n",
            "_________________________________________________________________\n",
            "dropout_4 (Dropout)          (None, 128)               0         \n",
            "_________________________________________________________________\n",
            "dense_6 (Dense)              (None, 15)                1935      \n",
            "=================================================================\n",
            "Total params: 644,495\n",
            "Trainable params: 644,495\n",
            "Non-trainable params: 0\n",
            "_________________________________________________________________\n",
            "WARNING:tensorflow:From /tensorflow-1.15.2/python3.6/tensorflow_core/python/ops/math_grad.py:1424: where (from tensorflow.python.ops.array_ops) is deprecated and will be removed in a future version.\n",
            "Instructions for updating:\n",
            "Use tf.where in 2.0, which has the same broadcast rule as np.where\n",
            "Train on 135000 samples, validate on 15000 samples\n",
            "Epoch 1/3\n",
            "135000/135000 [==============================] - 168s 1ms/step - loss: 1.7303 - acc: 0.4565 - val_loss: 0.8008 - val_acc: 0.7725\n",
            "Epoch 2/3\n",
            "135000/135000 [==============================] - 165s 1ms/step - loss: 0.9478 - acc: 0.7222 - val_loss: 0.5794 - val_acc: 0.8343\n",
            "Epoch 3/3\n",
            "135000/135000 [==============================] - 166s 1ms/step - loss: 0.7495 - acc: 0.7871 - val_loss: 0.4923 - val_acc: 0.8580\n"
          ],
          "name": "stdout"
        }
      ]
    }
  ]
}