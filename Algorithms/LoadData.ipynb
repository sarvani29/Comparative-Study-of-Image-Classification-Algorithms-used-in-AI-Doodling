{
 "nbformat": 4,
 "nbformat_minor": 0,
 "metadata": {
  "colab": {
   "name": "LoadData.ipynb",
   "provenance": [],
   "collapsed_sections": [],
   "machine_shape": "hm"
  },
  "kernelspec": {
   "name": "python3",
   "display_name": "Python 3"
  },
  "accelerator": "GPU",
  "pycharm": {
   "stem_cell": {
    "cell_type": "raw",
    "source": [],
    "metadata": {
     "collapsed": false
    }
   }
  }
 },
 "cells": [
  {
   "cell_type": "code",
   "metadata": {
    "id": "xwauKsSF6Cxa",
    "colab_type": "code",
    "outputId": "2a56cf53-78b0-43f0-ff62-057064600fd2",
    "colab": {
     "base_uri": "https://localhost:8080/",
     "height": 55
    }
   },
   "source": [
    "# from google.colab import drive\n",
    "# drive.mount('/content/drive')"
   ],
   "execution_count": 31,
   "outputs": [
    {
     "output_type": "stream",
     "text": [
      "Drive already mounted at /content/drive; to attempt to forcibly remount, call drive.mount(\"/content/drive\", force_remount=True).\n"
     ],
     "name": "stdout"
    }
   ]
  },
  {
   "cell_type": "code",
   "metadata": {
    "id": "UhnhBhSH6jYj",
    "colab_type": "code",
    "colab": {}
   },
   "source": [
    "import numpy as np\n",
    "import os\n",
    "import pickle"
   ],
   "execution_count": 0,
   "outputs": []
  },
  {
   "cell_type": "code",
   "metadata": {
    "id": "1OH-BtGv7Pfy",
    "colab_type": "code",
    "outputId": "1d0d2fe9-3f3a-4104-8e53-8bb07ca87006",
    "colab": {
     "base_uri": "https://localhost:8080/",
     "height": 35
    }
   },
   "source": [
    "os.name"
   ],
   "execution_count": 33,
   "outputs": [
    {
     "output_type": "execute_result",
     "data": {
      "text/plain": [
       "'posix'"
      ]
     },
     "metadata": {
      "tags": []
     },
     "execution_count": 33
    }
   ]
  },
  {
   "cell_type": "code",
   "metadata": {
    "id": "o61H8xEg9tni",
    "colab_type": "code",
    "colab": {}
   },
   "source": [
    "data_directory_path = \"/content/drive/My Drive/Colab Notebooks/CS7IS2 - Artificial Intelligence/Data\"\n",
    "features_path = \"/content/drive/My Drive/Colab Notebooks/CS7IS2 - Artificial Intelligence/features\"\n",
    "labels_path = \"/content/drive/My Drive/Colab Notebooks/CS7IS2 - Artificial Intelligence/labels\""
   ],
   "execution_count": 0,
   "outputs": []
  },
  {
   "cell_type": "code",
   "metadata": {
    "id": "S9EccVkD7i9r",
    "colab_type": "code",
    "outputId": "4902bb94-39e2-42e5-daef-fc99e4a359bf",
    "colab": {
     "base_uri": "https://localhost:8080/",
     "height": 277
    }
   },
   "source": [
    "dataset = os.listdir(data_directory_path)\n",
    "dataset"
   ],
   "execution_count": 35,
   "outputs": [
    {
     "output_type": "execute_result",
     "data": {
      "text/plain": [
       "['full_numpy_bitmap_apple.npy',\n",
       " 'full_numpy_bitmap_bowtie.npy',\n",
       " 'full_numpy_bitmap_candle.npy',\n",
       " 'full_numpy_bitmap_door.npy',\n",
       " 'full_numpy_bitmap_envelope.npy',\n",
       " 'full_numpy_bitmap_fish.npy',\n",
       " 'full_numpy_bitmap_guitar.npy',\n",
       " 'full_numpy_bitmap_ice cream.npy',\n",
       " 'full_numpy_bitmap_lightning.npy',\n",
       " 'full_numpy_bitmap_moon.npy',\n",
       " 'full_numpy_bitmap_mountain.npy',\n",
       " 'full_numpy_bitmap_star.npy',\n",
       " 'full_numpy_bitmap_The Eiffel Tower.npy',\n",
       " 'full_numpy_bitmap_toothbrush.npy',\n",
       " 'full_numpy_bitmap_wristwatch.npy']"
      ]
     },
     "metadata": {
      "tags": []
     },
     "execution_count": 35
    }
   ]
  },
  {
   "cell_type": "code",
   "metadata": {
    "id": "k19WIu3w-Z2f",
    "colab_type": "code",
    "colab": {}
   },
   "source": [
    "data = []\n",
    "data_load = []\n",
    "y = []\n",
    "y_load = []"
   ],
   "execution_count": 0,
   "outputs": []
  },
  {
   "cell_type": "code",
   "metadata": {
    "id": "XnGw9A4077V5",
    "colab_type": "code",
    "colab": {}
   },
   "source": [
    "def load_data():\n",
    "  ctr=0\n",
    "  for file in dataset:\n",
    "    file = data_directory_path + \"/\" + file\n",
    "    data = np.load(file)\n",
    "    # print (file + \":\")\n",
    "    # print (data.shape[0])\n",
    "    # print (data)\n",
    "    data = data.astype('float32') /255\n",
    "    data = data[0:10000, :]\n",
    "    # print (file + \":\")\n",
    "    # print (data.shape[0])\n",
    "    # print (data)\n",
    "    data_load.append(data)\n",
    "    # print (data_load)\n",
    "    y=[ctr for _ in range(10000)]\n",
    "    ctr += 1\n",
    "    y = np.array(y).astype('float32')\n",
    "    y = y.reshape(y.shape[0], 1)\n",
    "    y_load.append(y)\n",
    "  # print (y_load)\n",
    "  return data_load, y_load\n"
   ],
   "execution_count": 0,
   "outputs": []
  },
  {
   "cell_type": "code",
   "metadata": {
    "id": "faKkcy6QBI43",
    "colab_type": "code",
    "colab": {}
   },
   "source": [
    "features, labels = load_data()"
   ],
   "execution_count": 0,
   "outputs": []
  },
  {
   "cell_type": "code",
   "metadata": {
    "id": "_5TPcby5CM2f",
    "colab_type": "code",
    "colab": {}
   },
   "source": [
    "# features[1][1]\n"
   ],
   "execution_count": 0,
   "outputs": []
  },
  {
   "cell_type": "code",
   "metadata": {
    "id": "AvMOZvLFCVol",
    "colab_type": "code",
    "outputId": "fa8201a8-be25-429e-bf8a-59efb7e5623e",
    "colab": {
     "base_uri": "https://localhost:8080/",
     "height": 35
    }
   },
   "source": [
    "labels[14][0]\n",
    "# labels.shape"
   ],
   "execution_count": 39,
   "outputs": [
    {
     "output_type": "execute_result",
     "data": {
      "text/plain": [
       "array([14.], dtype=float32)"
      ]
     },
     "metadata": {
      "tags": []
     },
     "execution_count": 39
    }
   ]
  },
  {
   "cell_type": "code",
   "metadata": {
    "id": "CTI05JGTEBIG",
    "colab_type": "code",
    "outputId": "699ca233-8f27-4c87-8be7-53e2bea005ff",
    "colab": {
     "base_uri": "https://localhost:8080/",
     "height": 35
    }
   },
   "source": [
    "features = np.array(features).astype('float32')\n",
    "features.shape"
   ],
   "execution_count": 40,
   "outputs": [
    {
     "output_type": "execute_result",
     "data": {
      "text/plain": [
       "(15, 10000, 784)"
      ]
     },
     "metadata": {
      "tags": []
     },
     "execution_count": 40
    }
   ]
  },
  {
   "cell_type": "code",
   "metadata": {
    "id": "MZd2AucmEVx2",
    "colab_type": "code",
    "outputId": "63b04ef5-afb6-4990-a9a9-3c70899b0151",
    "colab": {
     "base_uri": "https://localhost:8080/",
     "height": 35
    }
   },
   "source": [
    "labels = np.array(labels).astype('float32')\n",
    "labels.shape"
   ],
   "execution_count": 41,
   "outputs": [
    {
     "output_type": "execute_result",
     "data": {
      "text/plain": [
       "(15, 10000, 1)"
      ]
     },
     "metadata": {
      "tags": []
     },
     "execution_count": 41
    }
   ]
  },
  {
   "cell_type": "code",
   "metadata": {
    "id": "7OS0ZpksEukY",
    "colab_type": "code",
    "outputId": "ef73207c-7ba3-4e65-e1e8-1f40f5f1ae58",
    "colab": {
     "base_uri": "https://localhost:8080/",
     "height": 35
    }
   },
   "source": [
    "features = features.reshape(features.shape[0]*features.shape[1], features.shape[2])\n",
    "features.shape"
   ],
   "execution_count": 42,
   "outputs": [
    {
     "output_type": "execute_result",
     "data": {
      "text/plain": [
       "(150000, 784)"
      ]
     },
     "metadata": {
      "tags": []
     },
     "execution_count": 42
    }
   ]
  },
  {
   "cell_type": "code",
   "metadata": {
    "id": "T43EQz9yFJf8",
    "colab_type": "code",
    "outputId": "c9f23b4b-e91c-4291-e3b3-2bbb98a779c0",
    "colab": {
     "base_uri": "https://localhost:8080/",
     "height": 35
    }
   },
   "source": [
    "labels=labels.reshape(labels.shape[0]*labels.shape[1],labels.shape[2])\n",
    "labels.shape"
   ],
   "execution_count": 43,
   "outputs": [
    {
     "output_type": "execute_result",
     "data": {
      "text/plain": [
       "(150000, 1)"
      ]
     },
     "metadata": {
      "tags": []
     },
     "execution_count": 43
    }
   ]
  },
  {
   "cell_type": "code",
   "metadata": {
    "id": "krsrHQ1aFOxm",
    "colab_type": "code",
    "colab": {}
   },
   "source": [
    "file = open(features_path,\"wb\")\n",
    "try:\n",
    "  pickle.dump(features, file, protocol=4)\n",
    "finally:\n",
    "  file.close()"
   ],
   "execution_count": 0,
   "outputs": []
  },
  {
   "cell_type": "code",
   "metadata": {
    "id": "zW5oSQjdHHE5",
    "colab_type": "code",
    "colab": {}
   },
   "source": [
    "file2 = open(labels_path, \"wb\")\n",
    "try:\n",
    "  pickle.dump(labels, file2, protocol=4)\n",
    "finally:\n",
    "    file2.close()"
   ],
   "execution_count": 0,
   "outputs": []
  }
 ]
}